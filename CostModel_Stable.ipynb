{
 "cells": [
  {
   "cell_type": "code",
   "execution_count": 1,
   "metadata": {},
   "outputs": [],
   "source": [
    "import math\n",
    "import sys\n",
    "import matplotlib.pyplot as plt\n",
    "import numpy as np\n",
    "%matplotlib inline\n",
    "#plt.style.use('ggplot')"
   ]
  },
  {
   "cell_type": "code",
   "execution_count": 2,
   "metadata": {},
   "outputs": [],
   "source": [
    "#Process class - define the details of a process technology node.\n",
    "# Cost values and defect densities are adapted and generalized from IC Knowledge (based on TSMC trend)\n",
    "    #Assuming maximum number of metal layers available in a given process (high performance/density)\n",
    "# Transistor densities are from WikiChip pages or IC Knowledge articles\n",
    "\n",
    "class Process:\n",
    "    def __init__(self, name, node, waferCost,defectDensity,tranDensity,diameter=300.0,streetWidth=0.075,edgeWidth=2.0,hasTsv=False):\n",
    "        #Most units in mm. Node is in nm. Defect density is defects per mm^2. Tran density is MTx per mm^2. Cost is $.\n",
    "        self.name = name;   # name - string - define the name of the process\n",
    "        self.node = node;   # node - int - unit=nm - set the process node\n",
    "        self.waferCost = waferCost;   # waferCost - float - unit=$ - cost per wafer\n",
    "        if(hasTsv):  # hasTsv - bool - does process have TSVs added?\n",
    "            self.waferCost = self.waferCost * 1.06;  # Wafer cost multiplier for additional TSV steps\n",
    "        self.defectDensity = defectDensity; # defectDensity - float - unit=defects per mm^2 - average number of defects assuming Murphy yield model (Negative binomial with alpha=3) https://www.eesemi.com/test-yield-models.htm\n",
    "        self.tranDensity = tranDensity; # tranDensity - float - unit=Million Transistors per mm^2 - process density metric based on NAND2 and scan flop densities: https://en.wikichip.org/wiki/mtr-mm%C2%B2\n",
    "        self.diameter = diameter; # diameter - float - unit=mm - diameter of a wafer\n",
    "        self.streetWidth = streetWidth; # streetWidth - float - unit=mm - spacer distance required between any two dies\n",
    "        self.edgeWidth = edgeWidth; # edgeWidth - float - unit=mm - boundary around wafer edge where no dies will yield\n",
    "        \n",
    "    def print(self):\n",
    "        print(\"Process:\"+str(self.name)+\",Node:\"+str(self.node)+\"nm,DefectDensity:\"+str(self.defectDensity)+\"per mm^2,Diameter:\"+str(self.diameter)+\"mm,StreetWidth:\"+str(self.streetWidth)+\"mm,EdgeExclusion:\"+str(self.edgeWidth)+\"mm,hasTsv:\"+str(self.hasTsv))\n",
    "    "
   ]
  },
  {
   "cell_type": "code",
   "execution_count": 3,
   "metadata": {},
   "outputs": [],
   "source": [
    "#CMOS Process Technology Definitions\n",
    "\n",
    "process5nm=Process(name=\"5nm FF\",node=5,waferCost=11700.0,defectDensity=0.0005,tranDensity=173.1);\n",
    "process7nm=Process(name=\"7nm FF+\",node=7,waferCost=10300.0,defectDensity=0.00075,tranDensity=113.9);\n",
    "process10nm=Process(name=\"10nm FF\",node=10,waferCost=4100.0,defectDensity=0.00075,tranDensity=73.7);\n",
    "process16nm=Process(name=\"16nm FF\",node=16,waferCost=3000.0,defectDensity=0.0015,tranDensity=34.4);\n",
    "process28nm=Process(name=\"28nm HPC\",node=28,waferCost=2400.0,defectDensity=0.0025,tranDensity=19.5);\n",
    "process40nm=Process(name=\"40nm G\",node=40,waferCost=1900.0,defectDensity=0.0035,tranDensity=10.2);\n",
    "process65nm=Process(name=\"65nm\",node=65,waferCost=1500.0,defectDensity=0.0035,tranDensity=6.9); \n",
    "\n",
    "#Silicon Interposer with TSVs - assuming 4 layers from Assembly and Test Cost Price Model\n",
    "processInterPos=Process(name=\"65nm Interposer TSV\",node=65,waferCost=750,defectDensity=0.00005,tranDensity=0.0);\n",
    "processInterPosNoTSV=Process(name=\"65nm Interposer No TSV\",node=65,waferCost=600,defectDensity=0.00005,tranDensity=0.0);\n",
    "processEMIB=Process(name=\"EMIB\",node=2000,waferCost=200,defectDensity=0.0003,tranDensity=0.0); #Defect density selected to get 0.99 yield for 36 mm^2 bridge\n",
    "\n",
    "#Active Interposer with TSVs - add TSV cost to CMOS processes\n",
    "process5nmTsv=Process(name=\"5nm FF\",node=5,waferCost=11700.0,defectDensity=0.0005,tranDensity=173.1,hasTsv=True);\n",
    "process7nmTsv=Process(name=\"7nm FF+\",node=7,waferCost=10300.0,defectDensity=0.00075,tranDensity=113.9,hasTsv=True);\n",
    "process10nmTsv=Process(name=\"10nm FF\",node=10,waferCost=4100.0,defectDensity=0.00075,tranDensity=73.7,hasTsv=True);\n",
    "process16nmTsv=Process(name=\"16nm FF\",node=16,waferCost=3000.0,defectDensity=0.0015,tranDensity=34.4,hasTsv=True);\n",
    "process28nmTsv=Process(name=\"28nm HPC\",node=28,waferCost=2400.0,defectDensity=0.0025,tranDensity=19.5,hasTsv=True);\n",
    "process40nmTsv=Process(name=\"40nm G\",node=40,waferCost=1900.0,defectDensity=0.0035,tranDensity=10.2,hasTsv=True);\n",
    "process65nmTsv=Process(name=\"65nm\",node=65,waferCost=1500.0,defectDensity=0.0035,tranDensity=6.9,hasTsv=True); "
   ]
  },
  {
   "cell_type": "code",
   "execution_count": 4,
   "metadata": {},
   "outputs": [],
   "source": [
    "#Chiplet class - define a single die with a given area and process technology\n",
    "# can specify active area if only part of the chiplet is yield-critical (or if other areas have high yield or repair)\n",
    "\n",
    "class Chiplet:\n",
    "    def __init__(self,process,dieArea,name=\"chiplet default\",activeArea=-1.0):\n",
    "        self.process = process;   #Process class\n",
    "        self.dieArea = dieArea;   #Float - unit=mm^2 - die area for dies per wafer\n",
    "        self.name = name;         #String\n",
    "        if(activeArea<0.0):\n",
    "            self.activeArea=self.dieArea; # if no active area is defined, then assume entire die is active area\n",
    "        else:\n",
    "            self.activeArea=activeArea; #Float - unit=mm^2 - active transitor area for yield\n",
    "        self.dieYield = self.calculateYield(self.activeArea, self.process); # 0.0 to 1.0\n",
    "        self.diesPerWafer = self.calculateDiesPerWafer(self.dieArea, self.process); # Float - average number of dies per wafer\n",
    "        self.dieCostBeforeYield = self.calculateDieCostBeforeYield(self.diesPerWafer,self.process); # Float - cost per die with 100% yield\n",
    "        self.dieCost = self.calculateDieCost(self.diesPerWafer,self.dieYield,self.process); # Float - cost per die\n",
    "        \n",
    "    def calculateYield(self,activeArea,process):\n",
    "        alpha = 3.0   # 3.0 = Murphy model\n",
    "        dieYield = (1+((activeArea*process.defectDensity)/alpha))**(-1.0*alpha)  #Negative binomial yield model\n",
    "        return dieYield\n",
    "    \n",
    "    def calculateDiesPerWafer(self,dieArea,process):\n",
    "        #Includes loss from streetWidth between dies, and edge exclusion at boundary of wafer\n",
    "        widthEst = dieArea**(0.5)   #approximating exclusion based on square die aspect ratio\n",
    "        widthPlus = widthEst + (process.streetWidth/2.0)\n",
    "        areaPlus = widthPlus**2\n",
    "        diameterMinus = process.diameter - 2*process.edgeWidth\n",
    "        numDie = (math.pi*((diameterMinus/2.0)**2.0))/areaPlus - (math.pi*diameterMinus)/((2.0*areaPlus)**0.5)\n",
    "        return numDie\n",
    "        \n",
    "    def calculateDieCost(self,diesPerWafer,dieYield, process):\n",
    "        dieCost = (process.waferCost/diesPerWafer) / dieYield\n",
    "        return dieCost\n",
    "    \n",
    "    def calculateDieCostBeforeYield(self,diesPerWafer, process):\n",
    "        dieCost = (process.waferCost/diesPerWafer)\n",
    "        return dieCost\n",
    "    "
   ]
  },
  {
   "cell_type": "code",
   "execution_count": 5,
   "metadata": {},
   "outputs": [
    {
     "name": "stdout",
     "output_type": "stream",
     "text": [
      "Test Area: 800.0\n",
      "Active Int Active Area:  80.0\n",
      "5nm , yield: 0.69 , diesPerWafer: 62.57 , dieCost: 272.19\n",
      "7nm , yield: 0.58 , diesPerWafer: 62.57 , dieCost: 284.45\n",
      "10nm , yield: 0.58 , diesPerWafer: 62.57 , dieCost: 113.23\n",
      "16nm , yield: 0.36 , diesPerWafer: 62.57 , dieCost: 131.56\n",
      "28nm , yield: 0.22 , diesPerWafer: 62.57 , dieCost: 177.57\n",
      "40nm , yield: 0.14 , diesPerWafer: 62.57 , dieCost: 219.43\n",
      "65nm , yield: 0.14 , diesPerWafer: 62.57 , dieCost: 173.23\n",
      "\n",
      "IntPos , yield: 1.0 , diesPerWafer: 62.57 , dieCost: 11.99\n",
      "IntPos NoTsv , yield: 1.0 , diesPerWafer: 62.57 , dieCost: 9.59\n",
      "EMIB , yield: 0.79 , diesPerWafer: 62.57 , dieCost: 4.03\n",
      "\n",
      "ActInt7 , yield: 0.94 , diesPerWafer: 62.57 , dieCost: 185.17\n",
      "ActInt10 , yield: 0.94 , diesPerWafer: 62.57 , dieCost: 73.71\n",
      "ActInt16 , yield: 0.89 , diesPerWafer: 62.57 , dieCost: 57.17\n",
      "ActInt28 , yield: 0.82 , diesPerWafer: 62.57 , dieCost: 49.34\n",
      "ActInt65 , yield: 0.77 , diesPerWafer: 62.57 , dieCost: 33.21\n",
      "\n"
     ]
    },
    {
     "data": {
      "image/png": "[encoded data removed]",
      "text/plain": [
       "<Figure size 432x288 with 1 Axes>"
      ]
     },
     "metadata": {
      "needs_background": "light"
     },
     "output_type": "display_data"
    },
    {
     "data": {
      "image/png": "[encoded data removed]",
      "text/plain": [
       "<Figure size 432x288 with 1 Axes>"
      ]
     },
     "metadata": {
      "needs_background": "light"
     },
     "output_type": "display_data"
    },
    {
     "data": {
      "image/png": "[encoded data removed]",
      "text/plain": [
       "<Figure size 432x288 with 1 Axes>"
      ]
     },
     "metadata": {
      "needs_background": "light"
     },
     "output_type": "display_data"
    }
   ],
   "source": [
    "#Chiplet tests and cost exploration\n",
    "testArea = 800.0\n",
    "activeIntTestArea = testArea * 0.1\n",
    "\n",
    "\n",
    "def printChipletDetails(chip):\n",
    "    print(chip.name,\", yield:\",round(chip.dieYield,2),\", diesPerWafer:\",round(chip.diesPerWafer,2),\", dieCost:\",round(chip.dieCost,2));\n",
    "\n",
    "\n",
    "tc5 = Chiplet(process5nm,testArea,\"5nm\");\n",
    "tc7 = Chiplet(process7nm,testArea,\"7nm\");\n",
    "tc10 = Chiplet(process10nm,testArea,\"10nm\");\n",
    "tc16 = Chiplet(process16nm,testArea,\"16nm\");\n",
    "tc28 = Chiplet(process28nm,testArea,\"28nm\");\n",
    "tc40 = Chiplet(process40nm,testArea,\"40nm\");\n",
    "tc65 = Chiplet(process65nm,testArea,\"65nm\");\n",
    "intTest = Chiplet(processInterPos,testArea,\"IntPos\",1.0);\n",
    "intTestNoTSV = Chiplet(processInterPosNoTSV,testArea,\"IntPos NoTsv\",1.0);\n",
    "emibTest = Chiplet(processEMIB,testArea,\"EMIB\");\n",
    "activeIntTest7 = Chiplet(process7nmTsv,testArea,\"ActInt7\",activeIntTestArea);\n",
    "activeIntTest10 = Chiplet(process10nmTsv,testArea,\"ActInt10\",activeIntTestArea);\n",
    "activeIntTest16 = Chiplet(process16nmTsv,testArea,\"ActInt16\",activeIntTestArea);\n",
    "activeIntTest28 = Chiplet(process28nmTsv,testArea,\"ActInt28\",activeIntTestArea);\n",
    "activeIntTest65 = Chiplet(process65nmTsv,testArea,\"ActInt65\",activeIntTestArea);\n",
    "\n",
    "\n",
    "chipList1 = [tc5,tc7,tc10,tc16,tc28,tc40,tc65];\n",
    "chipList2 = [intTest,intTestNoTSV,emibTest];\n",
    "chipList3 = [activeIntTest7,activeIntTest10,activeIntTest16,activeIntTest28,activeIntTest65];\n",
    "chipListOfLists = [chipList1,chipList2,chipList3]\n",
    "\n",
    "labels = [];\n",
    "yields = [];\n",
    "costs = [];\n",
    "costsBeforeYield = [];\n",
    "\n",
    "print(\"Test Area:\",testArea)\n",
    "print(\"Active Int Active Area: \",activeIntTestArea)\n",
    "\n",
    "for chipList in chipListOfLists:\n",
    "    for chip in chipList:\n",
    "        printChipletDetails(chip)\n",
    "        labels.append(chip.name);\n",
    "        yields.append(round(chip.dieYield,2))\n",
    "        costs.append(round(chip.dieCost,2))\n",
    "        costsBeforeYield.append(round(chip.dieCostBeforeYield,2))\n",
    "    print(\"\")\n",
    "    labels.append(\"\")\n",
    "    yields.append(0)\n",
    "    costs.append(0)\n",
    "    costsBeforeYield.append(0)\n",
    "\n",
    "plt.bar(range(len(costsBeforeYield)), costsBeforeYield, color='green')\n",
    "plt.ylabel(\"Die Cost Before Yield\")\n",
    "plt.title(\"Die Cost Before Yield - Area: \"+str(testArea))\n",
    "plt.xticks(range(len(costsBeforeYield)), labels, rotation=90)\n",
    "plt.show()\n",
    "\n",
    "plt.bar(range(len(yields)), yields, color='blue')\n",
    "plt.ylabel(\"Die Yield\")\n",
    "plt.title(\"Die Yield - Area: \"+str(testArea))\n",
    "plt.xticks(range(len(yields)), labels, rotation=90)\n",
    "plt.show()\n",
    "\n",
    "plt.bar(range(len(costs)), costs, color='green')\n",
    "plt.ylabel(\"Die Cost\")\n",
    "plt.title(\"Overall Die Cost - Area: \"+str(testArea))\n",
    "plt.xticks(range(len(costs)), labels, rotation=90)\n",
    "plt.show()\n",
    "    \n"
   ]
  },
  {
   "cell_type": "code",
   "execution_count": 6,
   "metadata": {},
   "outputs": [],
   "source": [
    "# Design class - calculate an area given a gate count and process\n",
    "# Helper function to generate multiple chiplets\n",
    "class Design:\n",
    "    def __init__(self,process,gateCount,utilization=0.70):\n",
    "        self.process = process;\n",
    "        self.gateCount = gateCount;\n",
    "        self.utilization = utilization;\n",
    "        tranCount = self.gateCount * 4.0; #Assuming average of 4 transistors per gate\n",
    "        self.area = ((tranCount/1000000.0)/process.tranDensity) / self.utilization;\n",
    "        \n",
    "    def createUniformChipletList(self, chipletCount, interfaceOverhead=0.0):\n",
    "        chipletList = []\n",
    "        areaPerChiplet = math.ceil(self.area/chipletCount) * (1.0+interfaceOverhead);\n",
    "        for i in range(chipletCount):\n",
    "            c = Chiplet(self.process,areaPerChiplet);\n",
    "            chipletList.append(c);\n",
    "        return chipletList\n",
    "    "
   ]
  },
  {
   "cell_type": "code",
   "execution_count": 7,
   "metadata": {},
   "outputs": [
    {
     "name": "stdout",
     "output_type": "stream",
     "text": [
      "Gates: 1.0 M, 7nm Area: 0.05016932145992726 mm2, 28nm Area: 0.29304029304029305 mm2\n",
      "Gates: 10.0 M, 7nm Area: 0.5016932145992725 mm2, 28nm Area: 2.93040293040293 mm2\n",
      "Gates: 100.0 M, 7nm Area: 5.016932145992725 mm2, 28nm Area: 29.30402930402931 mm2\n",
      "Gates: 1000.0 M, 7nm Area: 50.169321459927254 mm2, 28nm Area: 293.0402930402931 mm2\n",
      "Gates: 10000.0 M, 7nm Area: 501.6932145992725 mm2, 28nm Area: 2930.4029304029305 mm2\n"
     ]
    }
   ],
   "source": [
    "gateCountList = [1000000,10000000,100000000,1000000000,10000000000]\n",
    "for gc in gateCountList:\n",
    "    currDesign7 = Design(process7nm,gc)\n",
    "    currDesign28 = Design(process28nm,gc)\n",
    "    print(\"Gates:\",gc/1000000,\"M, 7nm Area:\",currDesign7.area,\"mm2, 28nm Area:\",currDesign28.area,\"mm2\")"
   ]
  },
  {
   "cell_type": "code",
   "execution_count": 8,
   "metadata": {},
   "outputs": [
    {
     "name": "stdout",
     "output_type": "stream",
     "text": [
      "1000000000.0\n",
      "Gate Count: 1000000000.0\n",
      "5nm , yield: 0.98 , diesPerWafer: 1943.88 , dieCost: 6.12\n",
      "7nm , yield: 0.96 , diesPerWafer: 1264.87 , dieCost: 8.45\n",
      "10nm , yield: 0.94 , diesPerWafer: 805.65 , dieCost: 5.39\n",
      "16nm , yield: 0.79 , diesPerWafer: 360.99 , dieCost: 10.56\n",
      "28nm , yield: 0.52 , diesPerWafer: 195.47 , dieCost: 23.65\n",
      "\n"
     ]
    },
    {
     "data": {
      "image/png": "[encoded data removed]",
      "text/plain": [
       "<Figure size 432x288 with 1 Axes>"
      ]
     },
     "metadata": {
      "needs_background": "light"
     },
     "output_type": "display_data"
    },
    {
     "data": {
      "image/png": "[encoded data removed]",
      "text/plain": [
       "<Figure size 432x288 with 1 Axes>"
      ]
     },
     "metadata": {
      "needs_background": "light"
     },
     "output_type": "display_data"
    },
    {
     "data": {
      "image/png": "[encoded data removed]",
      "text/plain": [
       "<Figure size 432x288 with 1 Axes>"
      ]
     },
     "metadata": {
      "needs_background": "light"
     },
     "output_type": "display_data"
    },
    {
     "data": {
      "image/png": "[encoded data removed]",
      "text/plain": [
       "<Figure size 432x288 with 1 Axes>"
      ]
     },
     "metadata": {
      "needs_background": "light"
     },
     "output_type": "display_data"
    }
   ],
   "source": [
    "#Design Chiplet tests - \n",
    "gateCount = 1.0*float(10**9) \n",
    "print(gateCount)\n",
    "activeIntTestArea = testArea * 0.1\n",
    "\n",
    "\n",
    "def printChipletDetails(chip):\n",
    "    print(chip.name,\", yield:\",round(chip.dieYield,2),\", diesPerWafer:\",round(chip.diesPerWafer,2),\", dieCost:\",round(chip.dieCost,2));\n",
    "\n",
    "\n",
    "d5 = Design(process5nm,gateCount);\n",
    "d7 = Design(process7nm,gateCount);\n",
    "d10 = Design(process10nm,gateCount);\n",
    "d16 = Design(process16nm,gateCount);\n",
    "d28 = Design(process28nm,gateCount);\n",
    "#d40 = Design(process40nm,gateCount);\n",
    "#d65 = Design(process65nm,gateCount);\n",
    "\n",
    "tc5 = Chiplet(process5nm,d5.area,\"5nm\");\n",
    "tc7 = Chiplet(process7nm,d7.area,\"7nm\");\n",
    "tc10 = Chiplet(process10nm,d10.area,\"10nm\");\n",
    "tc16 = Chiplet(process16nm,d16.area,\"16nm\");\n",
    "tc28 = Chiplet(process28nm,d28.area,\"28nm\");\n",
    "#tc40 = Chiplet(process40nm,d40.area,\"40nm\");\n",
    "#tc65 = Chiplet(process65nm,d65.area,\"65nm\");\n",
    "\n",
    "chipList1 = [tc5,tc7,tc10,tc16,tc28];\n",
    "#chipList2 = [intTest,intTestNoTSV,emibTest];\n",
    "#chipList3 = [activeIntTest7,activeIntTest10,activeIntTest16,activeIntTest28,activeIntTest65];\n",
    "#chipListOfLists = [chipList1,chipList2,chipList3]\n",
    "chipListOfLists = [chipList1]\n",
    "\n",
    "labels = [];\n",
    "areas = [];\n",
    "yields = [];\n",
    "costs = [];\n",
    "costsBeforeYield = [];\n",
    "\n",
    "print(\"Gate Count:\",gateCount)\n",
    "\n",
    "for chipList in chipListOfLists:\n",
    "    for chip in chipList:\n",
    "        printChipletDetails(chip)\n",
    "        labels.append(chip.name);\n",
    "        areas.append(round(chip.dieArea,2))\n",
    "        yields.append(round(chip.dieYield,2))\n",
    "        costs.append(round(chip.dieCost,2))\n",
    "        costsBeforeYield.append(round(chip.dieCostBeforeYield,2))\n",
    "    print(\"\")\n",
    "    labels.append(\"\")\n",
    "    areas.append(0)\n",
    "    yields.append(0)\n",
    "    costs.append(0)\n",
    "    costsBeforeYield.append(0)\n",
    "\n",
    "plt.bar(range(len(areas)), areas, color='green')\n",
    "plt.ylabel(\"Die Area\")\n",
    "plt.title(\"Die Area - Gates: \"+str(int(gateCount/1000000))+\"M\")\n",
    "plt.xticks(range(len(areas)), labels, rotation=90)\n",
    "plt.show()\n",
    "    \n",
    "plt.bar(range(len(costsBeforeYield)), costsBeforeYield, color='green')\n",
    "plt.ylabel(\"Die Cost Before Yield\")\n",
    "plt.title(\"Die Cost Before Yield - Gates: \"+str(int(gateCount/1000000))+\"M\")\n",
    "plt.xticks(range(len(costsBeforeYield)), labels, rotation=90)\n",
    "plt.show()\n",
    "\n",
    "plt.bar(range(len(yields)), yields, color='blue')\n",
    "plt.ylabel(\"Die Yield\")\n",
    "plt.title(\"Die Yield - Gates: \"+str(int(gateCount/1000000))+\"M\")\n",
    "plt.xticks(range(len(yields)), labels, rotation=90)\n",
    "plt.show()\n",
    "\n",
    "plt.bar(range(len(costs)), costs, color='green')\n",
    "plt.ylabel(\"Die Cost\")\n",
    "plt.title(\"Overall Die Cost - Gates: \"+str(int(gateCount/1000000))+\"M\")\n",
    "plt.xticks(range(len(costs)), labels, rotation=90)\n",
    "plt.show()"
   ]
  },
  {
   "cell_type": "code",
   "execution_count": 9,
   "metadata": {},
   "outputs": [
    {
     "name": "stdout",
     "output_type": "stream",
     "text": [
      "0.9892772959467866\n"
     ]
    }
   ],
   "source": [
    "#Yield test\n",
    "\n",
    "alpha = 3.0\n",
    "defectDensity = 0.0003\n",
    "area = 36\n",
    "dieYield = (1+((area*defectDensity)/alpha))**(-1.0*alpha)\n",
    "print(dieYield)"
   ]
  },
  {
   "cell_type": "code",
   "execution_count": 10,
   "metadata": {},
   "outputs": [],
   "source": [
    "#Define a system with multiple 3D stacked chips\n",
    "\n",
    "class Stack3D:\n",
    "    def __init__(self,chipletList,bondYield=0.99):\n",
    "        self.chipletList = chipletList;\n",
    "        self.bondYield = bondYield;\n",
    "        self.chipletCount = len(self.chipletList);\n",
    "        bondingEvents = self.chipletCount - 1;\n",
    "        #Assumption - KGD testing before stack-bonding. No intermediate bond testing.\n",
    "        self.totalBondYield = self.bondYield ** bondingEvents;\n",
    "        self.chipletCostSum = 0.0\n",
    "        for c in chipletList:\n",
    "            self.chipletCostSum = self.chipletCostSum + c.dieCost\n",
    "        self.cost = self.chipletCostSum / self.totalBondYield\n",
    "        self.integrationCost = self.cost-self.chipletCostSum"
   ]
  },
  {
   "cell_type": "code",
   "execution_count": 11,
   "metadata": {},
   "outputs": [
    {
     "name": "stdout",
     "output_type": "stream",
     "text": [
      "chipletCount: 1 , gateCount: 10000000000\n",
      "areaPerChiplet: 501.7 , yieldPerChiplet: 0.702 , costPerChiplet: 136.71\n",
      "\n",
      "\n",
      "chipletCount: 2 , gateCount: 10000000000\n",
      "areaPerChiplet: 263.6 , yieldPerChiplet: 0.826 , costPerChiplet: 60.24\n",
      "totalBondYield: 0.990 , chipletCostSum: 120.47 , stackCost: 121.69\n",
      "\n",
      "\n",
      "chipletCount: 4 , gateCount: 10000000000\n",
      "areaPerChiplet: 132.3 , yieldPerChiplet: 0.907 , costPerChiplet: 26.18\n",
      "totalBondYield: 0.970 , chipletCostSum: 104.73 , stackCost: 107.93\n",
      "\n",
      "\n",
      "chipletCount: 8 , gateCount: 10000000000\n",
      "areaPerChiplet: 66.2 , yieldPerChiplet: 0.952 , costPerChiplet: 12.07\n",
      "totalBondYield: 0.932 , chipletCostSum: 96.55 , stackCost: 103.59\n",
      "\n",
      "\n"
     ]
    }
   ],
   "source": [
    "# Stack3D test\n",
    "gateCount = 10**10\n",
    "\n",
    "currProcess = process7nm\n",
    "\n",
    "monoDesign = Design(currProcess,gateCount);\n",
    "monoChiplet = Chiplet(currProcess,monoDesign.area)\n",
    "print(\"chipletCount:\",1,\", gateCount:\",gateCount);\n",
    "print(\"areaPerChiplet:\",\"{0:.1f}\".format(monoChiplet.dieArea),\", yieldPerChiplet:\",\"{0:.3f}\".format(monoChiplet.dieYield),\", costPerChiplet:\",\"{0:.2f}\".format(monoChiplet.dieCost))\n",
    "print(\"\\n\")\n",
    "\n",
    "currProcess = process7nmTsv\n",
    "interfaceOverhead=0.05\n",
    "\n",
    "chipletCounts = [2,4,8]\n",
    "for cc in chipletCounts:\n",
    "    currDesign = Design(currProcess,gateCount)\n",
    "    currChipList = currDesign.createUniformChipletList(cc,interfaceOverhead)\n",
    "    areaPerChiplet = currChipList[0].dieArea\n",
    "    costPerChiplet = currChipList[0].dieCost\n",
    "    yieldPerChiplet = currChipList[0].dieYield\n",
    "    currStack3D = Stack3D(currChipList,bondYield=0.99)\n",
    "    print(\"chipletCount:\",currStack3D.chipletCount,\", gateCount:\",gateCount);\n",
    "    print(\"areaPerChiplet:\",\"{0:.1f}\".format(areaPerChiplet),\", yieldPerChiplet:\",\"{0:.3f}\".format(yieldPerChiplet),\", costPerChiplet:\",\"{0:.2f}\".format(costPerChiplet))\n",
    "    print(\"totalBondYield:\",\"{0:.3f}\".format(currStack3D.totalBondYield),\", chipletCostSum:\",\"{0:.2f}\".format(currStack3D.chipletCostSum),\", stackCost:\",\"{0:.2f}\".format(currStack3D.cost))\n",
    "    print(\"\\n\")"
   ]
  },
  {
   "cell_type": "code",
   "execution_count": 12,
   "metadata": {},
   "outputs": [],
   "source": [
    "#Define a system with multiple chiplets on a base interposer\n",
    "\n",
    "class StackInterposer:\n",
    "    def __init__(self,chipletList,interposerProcess,interposerAreaOverhead=0.0,interposerActiveArea=0.0,bondYield=0.99):\n",
    "        self.chipletCount = len(chipletList);\n",
    "        self.chipletList = chipletList;\n",
    "        self.interposerProcess = interposerProcess;\n",
    "        self.interposerActiveArea = interposerActiveArea;\n",
    "        self.interposerAreaOverhead = interposerAreaOverhead;\n",
    "        self.bondYield = bondYield;\n",
    "        bondingEvents = self.chipletCount;\n",
    "        #Assumption - KGD testing before interposer-bonding. No intermediate chiplet-interposer bond testing.\n",
    "        self.totalBondYield = bondYield ** bondingEvents;\n",
    "        self.chipletCostSum = 0.0\n",
    "        self.chipletAreaSum = 0.0\n",
    "        for c in chipletList:\n",
    "            self.chipletCostSum = self.chipletCostSum + c.dieCost\n",
    "            self.chipletAreaSum = self.chipletAreaSum + c.dieArea\n",
    "        self.interposerArea = self.chipletAreaSum * (1.0 + interposerAreaOverhead);\n",
    "        self.interposer = Chiplet(self.interposerProcess, self.interposerArea,\"Interposer\",self.interposerActiveArea);\n",
    "        self.cost = self.interposer.dieCost + (self.chipletCostSum / self.totalBondYield)\n",
    "        self.integrationCost = self.cost-self.chipletCostSum"
   ]
  },
  {
   "cell_type": "code",
   "execution_count": 13,
   "metadata": {},
   "outputs": [
    {
     "name": "stdout",
     "output_type": "stream",
     "text": [
      "chipletCount: 1 , gateCount: 16000000000.0\n",
      "areaPerChiplet: 802.7 , yieldPerChiplet: 0.578 , costPerChiplet: 286.07\n",
      "\n",
      "\n",
      "chipletCount: 2 , gateCount: 16000000000.0\n",
      "areaPerChiplet: 422.1 , yieldPerChiplet: 0.740 , costPerChiplet: 106.65\n",
      "interposerArea: 1055.2 , interposerYield: 1.000 , interposerCost: 16.73\n",
      "totalBondYield: 0.980 , chipletCostSum: 213.31 , stackCost: 234.37\n",
      "\n",
      "\n",
      "chipletCount: 4 , gateCount: 16000000000.0\n",
      "areaPerChiplet: 211.1 , yieldPerChiplet: 0.857 , costPerChiplet: 43.04\n",
      "interposerArea: 1055.2 , interposerYield: 1.000 , interposerCost: 16.73\n",
      "totalBondYield: 0.961 , chipletCostSum: 172.16 , stackCost: 195.94\n",
      "\n",
      "\n",
      "chipletCount: 8 , gateCount: 16000000000.0\n",
      "areaPerChiplet: 106.1 , yieldPerChiplet: 0.925 , costPerChiplet: 19.19\n",
      "interposerArea: 1060.5 , interposerYield: 1.000 , interposerCost: 16.83\n",
      "totalBondYield: 0.923 , chipletCostSum: 153.52 , stackCost: 183.20\n",
      "\n",
      "\n"
     ]
    }
   ],
   "source": [
    "# StackInterposer Passive test\n",
    "gateCount = 1.6*10**10\n",
    "currProcess = process7nm\n",
    "\n",
    "monoDesign = Design(currProcess,gateCount);\n",
    "monoChiplet = Chiplet(currProcess,monoDesign.area)\n",
    "print(\"chipletCount:\",1,\", gateCount:\",gateCount);\n",
    "print(\"areaPerChiplet:\",\"{0:.1f}\".format(monoChiplet.dieArea),\", yieldPerChiplet:\",\"{0:.3f}\".format(monoChiplet.dieYield),\", costPerChiplet:\",\"{0:.2f}\".format(monoChiplet.dieCost))\n",
    "print(\"\\n\")\n",
    "\n",
    "    \n",
    "chipletCounts = [2,4,8]\n",
    "interfaceOverhead=0.05\n",
    "    \n",
    "for cc in chipletCounts:\n",
    "    currDesign = Design(currProcess,gateCount)\n",
    "    currChipList = currDesign.createUniformChipletList(cc,interfaceOverhead)\n",
    "    areaPerChiplet = currChipList[0].dieArea\n",
    "    costPerChiplet = currChipList[0].dieCost\n",
    "    yieldPerChiplet = currChipList[0].dieYield\n",
    "    currStackInterposer = StackInterposer(currChipList,processInterPos,interposerAreaOverhead=0.25,bondYield=0.99);\n",
    "    currInt = currStackInterposer.interposer;\n",
    "    intArea = currInt.dieArea\n",
    "    intYield = currInt.dieYield\n",
    "    intCost = currInt.dieCost\n",
    "    print(\"chipletCount:\",currStackInterposer.chipletCount,\", gateCount:\",gateCount);\n",
    "    print(\"areaPerChiplet:\",\"{0:.1f}\".format(areaPerChiplet),\", yieldPerChiplet:\",\"{0:.3f}\".format(yieldPerChiplet),\", costPerChiplet:\",\"{0:.2f}\".format(costPerChiplet))\n",
    "    print(\"interposerArea:\",\"{0:.1f}\".format(intArea),\", interposerYield:\",\"{0:.3f}\".format(intYield),\", interposerCost:\",\"{0:.2f}\".format(intCost))\n",
    "    print(\"totalBondYield:\",\"{0:.3f}\".format(currStackInterposer.totalBondYield),\", chipletCostSum:\",\"{0:.2f}\".format(currStackInterposer.chipletCostSum),\", stackCost:\",\"{0:.2f}\".format(currStackInterposer.cost))\n",
    "    print(\"\\n\")\n",
    "    \n"
   ]
  },
  {
   "cell_type": "code",
   "execution_count": 14,
   "metadata": {},
   "outputs": [
    {
     "name": "stdout",
     "output_type": "stream",
     "text": [
      "chipletCount: 1 , gateCount: 16000000000.0\n",
      "areaPerChiplet: 802.7 , yieldPerChiplet: 0.578 , costPerChiplet: 286.07\n",
      "\n",
      "\n",
      "interposerProcess: 7nm FF+\n",
      "chipletCount: 8 , gateCount: 16000000000.0\n",
      "areaPerChiplet: 106.1 , yieldPerChiplet: 0.925 , costPerChiplet: 19.19\n",
      "interposerArea: 1060.5 , interposerYield: 0.929 , interposerCost: 263.80\n",
      "totalBondYield: 0.923 , chipletCostSum: 153.52 , stackCost: 430.17\n",
      "\n",
      "\n",
      "interposerProcess: 10nm FF\n",
      "chipletCount: 8 , gateCount: 16000000000.0\n",
      "areaPerChiplet: 106.1 , yieldPerChiplet: 0.925 , costPerChiplet: 19.19\n",
      "interposerArea: 1060.5 , interposerYield: 0.929 , interposerCost: 105.01\n",
      "totalBondYield: 0.923 , chipletCostSum: 153.52 , stackCost: 271.38\n",
      "\n",
      "\n",
      "interposerProcess: 16nm FF\n",
      "chipletCount: 8 , gateCount: 16000000000.0\n",
      "areaPerChiplet: 106.1 , yieldPerChiplet: 0.925 , costPerChiplet: 19.19\n",
      "interposerArea: 1060.5 , interposerYield: 0.864 , interposerCost: 82.59\n",
      "totalBondYield: 0.923 , chipletCostSum: 153.52 , stackCost: 248.97\n",
      "\n",
      "\n",
      "interposerProcess: 28nm HPC\n",
      "chipletCount: 8 , gateCount: 16000000000.0\n",
      "areaPerChiplet: 106.1 , yieldPerChiplet: 0.925 , costPerChiplet: 19.19\n",
      "interposerArea: 1060.5 , interposerYield: 0.787 , interposerCost: 72.57\n",
      "totalBondYield: 0.923 , chipletCostSum: 153.52 , stackCost: 238.95\n",
      "\n",
      "\n"
     ]
    }
   ],
   "source": [
    "# StackInterposer Active test\n",
    "gateCount = 1.6*10**10\n",
    "currProcess = process7nm\n",
    "chipletCount = 8\n",
    "interfaceOverhead = 0.05\n",
    "\n",
    "monoDesign = Design(currProcess,gateCount);\n",
    "monoChiplet = Chiplet(currProcess,monoDesign.area)\n",
    "print(\"chipletCount:\",1,\", gateCount:\",gateCount);\n",
    "print(\"areaPerChiplet:\",\"{0:.1f}\".format(monoChiplet.dieArea),\", yieldPerChiplet:\",\"{0:.3f}\".format(monoChiplet.dieYield),\", costPerChiplet:\",\"{0:.2f}\".format(monoChiplet.dieCost))\n",
    "print(\"\\n\")\n",
    "\n",
    "currDesign = Design(currProcess,gateCount)\n",
    "currChipList = currDesign.createUniformChipletList(chipletCount,interfaceOverhead)\n",
    "areaPerChiplet = currChipList[0].dieArea\n",
    "costPerChiplet = currChipList[0].dieCost\n",
    "yieldPerChiplet = currChipList[0].dieYield\n",
    "\n",
    "intProcs = [process7nmTsv,process10nmTsv,process16nmTsv,process28nmTsv]\n",
    "for ip in intProcs:\n",
    "    currStackInterposer = StackInterposer(currChipList,ip,interposerAreaOverhead=0.25,bondYield=0.99,interposerActiveArea=100.0);\n",
    "    currInt = currStackInterposer.interposer;\n",
    "    intArea = currInt.dieArea\n",
    "    intYield = currInt.dieYield\n",
    "    intCost = currInt.dieCost\n",
    "    print(\"interposerProcess:\",ip.name)\n",
    "    print(\"chipletCount:\",currStackInterposer.chipletCount,\", gateCount:\",gateCount);\n",
    "    print(\"areaPerChiplet:\",\"{0:.1f}\".format(areaPerChiplet),\", yieldPerChiplet:\",\"{0:.3f}\".format(yieldPerChiplet),\", costPerChiplet:\",\"{0:.2f}\".format(costPerChiplet))\n",
    "    print(\"interposerArea:\",\"{0:.1f}\".format(intArea),\", interposerYield:\",\"{0:.3f}\".format(intYield),\", interposerCost:\",\"{0:.2f}\".format(intCost))\n",
    "    print(\"totalBondYield:\",\"{0:.3f}\".format(currStackInterposer.totalBondYield),\", chipletCostSum:\",\"{0:.2f}\".format(currStackInterposer.chipletCostSum),\", stackCost:\",\"{0:.2f}\".format(currStackInterposer.cost))\n",
    "    print(\"\\n\")\n",
    "    \n"
   ]
  },
  {
   "cell_type": "code",
   "execution_count": null,
   "metadata": {},
   "outputs": [],
   "source": []
  }
 ],
 "metadata": {
  "kernelspec": {
   "display_name": "Python 3",
   "language": "python",
   "name": "python3"
  },
  "language_info": {
   "codemirror_mode": {
    "name": "ipython",
    "version": 3
   },
   "file_extension": ".py",
   "mimetype": "text/x-python",
   "name": "python",
   "nbconvert_exporter": "python",
   "pygments_lexer": "ipython3",
   "version": "3.7.6"
  }
 },
 "nbformat": 4,
 "nbformat_minor": 4
}
